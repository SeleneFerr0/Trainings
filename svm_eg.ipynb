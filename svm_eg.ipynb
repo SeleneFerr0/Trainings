{
 "cells": [
  {
   "cell_type": "markdown",
   "metadata": {
    "collapsed": true
   },
   "source": [
    "# [SVM](http://scikit-learn.org/stable/modules/generated/sklearn.svm.SVC.html)"
   ]
  },
  {
   "cell_type": "markdown",
   "metadata": {},
   "source": [
    "## 0. import"
   ]
  },
  {
   "cell_type": "code",
   "execution_count": 1,
   "metadata": {
    "collapsed": true
   },
   "outputs": [],
   "source": [
    "from sklearn.datasets import load_iris\n",
    "from sklearn.svm import SVC\n",
    "from sklearn.model_selection import train_test_split\n",
    "from sklearn.metrics import accuracy_score\n",
    "\n",
    "# draw\n",
    "%matplotlib inline"
   ]
  },
  {
   "cell_type": "markdown",
   "metadata": {},
   "source": [
    "## 1. load data"
   ]
  },
  {
   "cell_type": "code",
   "execution_count": 2,
   "metadata": {},
   "outputs": [],
   "source": [
    "iris = load_iris()"
   ]
  },
  {
   "cell_type": "markdown",
   "metadata": {
    "collapsed": true
   },
   "source": [
    "### 1.1 data twist"
   ]
  },
  {
   "cell_type": "code",
   "execution_count": 3,
   "metadata": {},
   "outputs": [
    {
     "name": "stdout",
     "output_type": "stream",
     "text": [
      "sample：150，train：112，test：38\n"
     ]
    }
   ],
   "source": [
    "X = iris.data\n",
    "y = iris.target\n",
    "X_train, X_test, y_train, y_test = train_test_split(X, y, test_size=1/4, random_state=0)\n",
    "\n",
    "print('sample：{}，train：{}，test：{}'.format(len(X), len(X_train), len(X_test)))"
   ]
  },
  {
   "cell_type": "markdown",
   "metadata": {},
   "source": [
    "## 2. models"
   ]
  },
  {
   "cell_type": "code",
   "execution_count": 5,
   "metadata": {},
   "outputs": [
    {
     "name": "stdout",
     "output_type": "stream",
     "text": [
      "core：linear, C=0.01, acc：0.842\n",
      "core：linear, C=0.1, acc：0.974\n",
      "core：linear, C=1, acc：0.974\n",
      "core：linear, C=10, acc：0.974\n",
      "core：linear, C=100, acc：0.947\n",
      "\n",
      "core：rbf, C=0.01, acc：0.237\n",
      "core：rbf, C=0.1, acc：0.947\n",
      "core：rbf, C=1, acc：0.974\n",
      "core：rbf, C=10, acc：0.974\n",
      "core：rbf, C=100, acc：0.974\n",
      "\n"
     ]
    }
   ],
   "source": [
    "# core\n",
    "kernel_funcs = ['linear', 'rbf']\n",
    "\n",
    "c_vals = [0.01, 0.1, 1, 10, 100]\n",
    "\n",
    "for kernel_func in kernel_funcs:\n",
    "    for c_val in c_vals:\n",
    "        svm_model = SVC(kernel=kernel_func, C=c_val)\n",
    "        svm_model.fit(X_train, y_train)\n",
    "        acc = svm_model.score(X_test, y_test)\n",
    "        \n",
    "        print('core：{}, C={}, acc：{:.3f}'.format(kernel_func, c_val, acc))\n",
    "    print()    "
   ]
  }
 ],
 "metadata": {
  "kernelspec": {
   "display_name": "Python 3",
   "language": "python",
   "name": "python3"
  },
  "language_info": {
   "codemirror_mode": {
    "name": "ipython",
    "version": 3
   },
   "file_extension": ".py",
   "mimetype": "text/x-python",
   "name": "python",
   "nbconvert_exporter": "python",
   "pygments_lexer": "ipython3",
   "version": "3.6.1"
  }
 },
 "nbformat": 4,
 "nbformat_minor": 2
}
